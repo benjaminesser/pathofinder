{
 "cells": [
  {
   "cell_type": "code",
   "execution_count": 62,
   "metadata": {},
   "outputs": [],
   "source": [
    "import pandas as pd\n",
    "import matplotlib.pyplot as plt"
   ]
  },
  {
   "cell_type": "code",
   "execution_count": 1,
   "metadata": {},
   "outputs": [
    {
     "name": "stdout",
     "output_type": "stream",
     "text": [
      "  % Total    % Received % Xferd  Average Speed   Time    Time     Time  Current\n",
      "                                 Dload  Upload   Total   Spent    Left  Speed\n",
      "100   593    0   593    0     0   3021      0 --:--:-- --:--:-- --:--:--  3025\n",
      "100   347  100   347    0     0   1275      0 --:--:-- --:--:-- --:--:--  1275\n",
      "100  108k  100  108k    0     0    98k      0  0:00:01  0:00:01 --:--:--  745k\n"
     ]
    }
   ],
   "source": [
    "# Download VarScan\n",
    "!curl -L https://sourceforge.net/projects/varscan/files/VarScan.v2.3.9.jar/download > VarScan.jar"
   ]
  },
  {
   "cell_type": "code",
   "execution_count": 52,
   "metadata": {},
   "outputs": [
    {
     "name": "stdout",
     "output_type": "stream",
     "text": [
      "Only SNPs will be reported\n",
      "Warning: No p-value threshold provided, so p-values will not be calculated\n",
      "Min coverage:\t10\n",
      "Min reads2:\t2\n",
      "Min var freq:\t0.2\n",
      "Min avg qual:\t0\n",
      "P-value thresh:\t0.01\n",
      "Reading input from ../example_files/NA12878_child.mpileup\n",
      "202362 bases in pileup file\n",
      "46 variant positions (40 SNP, 6 indel)\n",
      "0 were failed by the strand-filter\n",
      "40 variant positions reported (40 SNP, 0 indel)\n"
     ]
    }
   ],
   "source": [
    "# Run mpileup2snp\n",
    "!java -jar VarScan.jar mpileup2snp ../example_files/NA12878_child.mpileup --min-var-frequency 0.2 --min-freq-for-hom 0.8 --min-coverage 10 --min-avg-qual 0 --strand-filter 0 --output-vcf 1 --variants 1 > varscan_child.vcf"
   ]
  },
  {
   "cell_type": "code",
   "execution_count": 12,
   "metadata": {},
   "outputs": [],
   "source": [
    "# Run snpfinder\n",
    "!snpfinder ../example_files/NA12878_child.mpileup -o snpfinder_child.vcf"
   ]
  },
  {
   "cell_type": "code",
   "execution_count": 13,
   "metadata": {},
   "outputs": [
    {
     "name": "stdout",
     "output_type": "stream",
     "text": [
      "Only SNPs will be reported\n",
      "Warning: No p-value threshold provided, so p-values will not be calculated\n",
      "Min coverage:\t10\n",
      "Min reads2:\t2\n",
      "Min var freq:\t0.2\n",
      "Min avg qual:\t0\n",
      "P-value thresh:\t0.01\n",
      "Reading input from ../example_files/NA12878_child.mpileup\n",
      "202362 bases in pileup file\n",
      "46 variant positions (40 SNP, 6 indel)\n",
      "0 were failed by the strand-filter\n",
      "40 variant positions reported (40 SNP, 0 indel)\n",
      "java -jar VarScan.jar mpileup2snp ../example_files/NA12878_child.mpileup  0.2  23.95s user 0.89s system 130% cpu 19.073 total\n"
     ]
    }
   ],
   "source": [
    "# Time mpile2snp\n",
    "!time java -jar VarScan.jar mpileup2snp ../example_files/NA12878_child.mpileup --min-var-frequency 0.2 --min-freq-for-hom 0.8 --min-coverage 10 --min-avg-qual 0 --strand-filter 0 --output-vcf 1 --variants 1 > varscan_child.vcf"
   ]
  },
  {
   "cell_type": "code",
   "execution_count": 14,
   "metadata": {},
   "outputs": [
    {
     "name": "stdout",
     "output_type": "stream",
     "text": [
      "snpfinder ../example_files/NA12878_child.mpileup -o snpfinder_child.vcf  1.25s user 0.02s system 68% cpu 1.859 total\n"
     ]
    }
   ],
   "source": [
    "# Time snpfinder\n",
    "!time snpfinder ../example_files/NA12878_child.mpileup -o snpfinder_child.vcf"
   ]
  },
  {
   "cell_type": "code",
   "execution_count": 54,
   "metadata": {},
   "outputs": [
    {
     "name": "stdout",
     "output_type": "stream",
     "text": [
      "Only SNPs will be reported\n",
      "Warning: No p-value threshold provided, so p-values will not be calculated\n",
      "Min coverage:\t10\n",
      "Min reads2:\t2\n",
      "Min var freq:\t0.2\n",
      "Min avg qual:\t0\n",
      "P-value thresh:\t0.01\n",
      "Reading input from ./scaling/child_chunk_100.mpileup\n",
      "100 bases in pileup file\n",
      "2 variant positions (2 SNP, 0 indel)\n",
      "0 were failed by the strand-filter\n",
      "2 variant positions reported (2 SNP, 0 indel)\n",
      "java -jar VarScan.jar mpileup2snp ./scaling/child_chunk_100.mpileup  0.2  0.8  0.31s user 0.10s system 92% cpu 0.447 total\n",
      "Only SNPs will be reported\n",
      "Warning: No p-value threshold provided, so p-values will not be calculated\n",
      "Min coverage:\t10\n",
      "Min reads2:\t2\n",
      "Min var freq:\t0.2\n",
      "Min avg qual:\t0\n",
      "P-value thresh:\t0.01\n",
      "Reading input from ./scaling/child_chunk_1000.mpileup\n",
      "1000 bases in pileup file\n",
      "20 variant positions (20 SNP, 0 indel)\n",
      "0 were failed by the strand-filter\n",
      "20 variant positions reported (20 SNP, 0 indel)\n",
      "java -jar VarScan.jar mpileup2snp ./scaling/child_chunk_1000.mpileup  0.2  0.  0.71s user 0.10s system 163% cpu 0.496 total\n",
      "Only SNPs will be reported\n",
      "Warning: No p-value threshold provided, so p-values will not be calculated\n",
      "Min coverage:\t10\n",
      "Min reads2:\t2\n",
      "Min var freq:\t0.2\n",
      "Min avg qual:\t0\n",
      "P-value thresh:\t0.01\n",
      "Reading input from ./scaling/child_chunk_10000.mpileup\n",
      "10000 bases in pileup file\n",
      "200 variant positions (200 SNP, 0 indel)\n",
      "0 were failed by the strand-filter\n",
      "200 variant positions reported (200 SNP, 0 indel)\n",
      "java -jar VarScan.jar mpileup2snp ./scaling/child_chunk_10000.mpileup  0.2     1.88s user 0.15s system 162% cpu 1.247 total\n",
      "Only SNPs will be reported\n",
      "Warning: No p-value threshold provided, so p-values will not be calculated\n",
      "Min coverage:\t10\n",
      "Min reads2:\t2\n",
      "Min var freq:\t0.2\n",
      "Min avg qual:\t0\n",
      "P-value thresh:\t0.01\n",
      "Reading input from ./scaling/child_chunk_50000.mpileup\n",
      "50000 bases in pileup file\n",
      "1000 variant positions (1000 SNP, 0 indel)\n",
      "0 were failed by the strand-filter\n",
      "1000 variant positions reported (1000 SNP, 0 indel)\n",
      "java -jar VarScan.jar mpileup2snp ./scaling/child_chunk_50000.mpileup  0.2     4.46s user 0.27s system 199% cpu 2.368 total\n",
      "Only SNPs will be reported\n",
      "Warning: No p-value threshold provided, so p-values will not be calculated\n",
      "Min coverage:\t10\n",
      "Min reads2:\t2\n",
      "Min var freq:\t0.2\n",
      "Min avg qual:\t0\n",
      "P-value thresh:\t0.01\n",
      "Reading input from ./scaling/child_chunk_100000.mpileup\n",
      "100000 bases in pileup file\n",
      "2000 variant positions (2000 SNP, 0 indel)\n",
      "0 were failed by the strand-filter\n",
      "2000 variant positions reported (2000 SNP, 0 indel)\n",
      "java -jar VarScan.jar mpileup2snp ./scaling/child_chunk_100000.mpileup  0.2    18.88s user 0.44s system 122% cpu 15.829 total\n"
     ]
    }
   ],
   "source": [
    "# Time mpileup2snp at different sizes of mpileup\n",
    "!time java -jar VarScan.jar mpileup2snp ./scaling/child_chunk_100.mpileup --min-var-frequency 0.2 --min-freq-for-hom 0.8 --min-coverage 10 --min-avg-qual 0 --strand-filter 0 --output-vcf 1 --variants 1 > ./scaling/varscan_child_chunk_100.vcf\n",
    "!time java -jar VarScan.jar mpileup2snp ./scaling/child_chunk_1000.mpileup --min-var-frequency 0.2 --min-freq-for-hom 0.8 --min-coverage 10 --min-avg-qual 0 --strand-filter 0 --output-vcf 1 --variants 1 > ./scaling/varscan_child_chunk_1000.vcf\n",
    "!time java -jar VarScan.jar mpileup2snp ./scaling/child_chunk_10000.mpileup --min-var-frequency 0.2 --min-freq-for-hom 0.8 --min-coverage 10 --min-avg-qual 0 --strand-filter 0 --output-vcf 1 --variants 1 > ./scaling/varscan_child_chunk_10000.vcf\n",
    "!time java -jar VarScan.jar mpileup2snp ./scaling/child_chunk_50000.mpileup --min-var-frequency 0.2 --min-freq-for-hom 0.8 --min-coverage 10 --min-avg-qual 0 --strand-filter 0 --output-vcf 1 --variants 1 > ./scaling/varscan_child_chunk_50000.vcf\n",
    "!time java -jar VarScan.jar mpileup2snp ./scaling/child_chunk_100000.mpileup --min-var-frequency 0.2 --min-freq-for-hom 0.8 --min-coverage 10 --min-avg-qual 0 --strand-filter 0 --output-vcf 1 --variants 1 > ./scaling/varscan_child_chunk_100000.vcf"
   ]
  },
  {
   "cell_type": "code",
   "execution_count": 55,
   "metadata": {},
   "outputs": [],
   "source": [
    "# Add together time for each command\n",
    "var_100 = .31+.1\n",
    "var_1000 = .71+.1\n",
    "var_10000 = 1.88+.15\n",
    "var_50000 = 4.46+.27\n",
    "var_100000 = 18.88+.44"
   ]
  },
  {
   "cell_type": "code",
   "execution_count": 47,
   "metadata": {},
   "outputs": [
    {
     "name": "stdout",
     "output_type": "stream",
     "text": [
      "snpfinder ./scaling/child_chunk_100.mpileup -o   0.04s user 0.01s system 66% cpu 0.080 total\n",
      "snpfinder ./scaling/child_chunk_1000.mpileup -o   0.04s user 0.01s system 96% cpu 0.054 total\n",
      "snpfinder ./scaling/child_chunk_10000.mpileup -o   0.09s user 0.01s system 96% cpu 0.103 total\n",
      "snpfinder ./scaling/child_chunk_50000.mpileup -o   0.31s user 0.01s system 98% cpu 0.330 total\n",
      "snpfinder ./scaling/child_chunk_100000.mpileup -o   0.58s user 0.01s system 97% cpu 0.610 total\n"
     ]
    }
   ],
   "source": [
    "# Time snpfinder at different sizes of mpileup\n",
    "!time snpfinder ./scaling/child_chunk_100.mpileup -o ./scaling/snpfinder_child_chunk_100.vcf\n",
    "!time snpfinder ./scaling/child_chunk_1000.mpileup -o ./scaling/snpfinder_child_chunk_1000.vcf\n",
    "!time snpfinder ./scaling/child_chunk_10000.mpileup -o ./scaling/snpfinder_child_chunk_10000.vcf\n",
    "!time snpfinder ./scaling/child_chunk_50000.mpileup -o ./scaling/snpfinder_child_chunk_50000.vcf\n",
    "!time snpfinder ./scaling/child_chunk_100000.mpileup -o ./scaling/snpfinder_child_chunk_100000.vcf"
   ]
  },
  {
   "cell_type": "code",
   "execution_count": 56,
   "metadata": {},
   "outputs": [],
   "source": [
    "# Add together time for each command\n",
    "snp_100 = 0.04+0.01\n",
    "snp_1000 = 0.04+0.01\n",
    "snp_10000 = 0.09+0.01\n",
    "snp_50000 = 0.31+0.01\n",
    "snp_100000 = 0.58+0.01"
   ]
  },
  {
   "cell_type": "code",
   "execution_count": 58,
   "metadata": {},
   "outputs": [
    {
     "name": "stdout",
     "output_type": "stream",
     "text": [
      "   mpileup size (# of lines)  snpfinder  mpileup2snp\n",
      "0                        100       0.05         0.41\n",
      "1                       1000       0.05         0.81\n",
      "2                      10000       0.10         2.03\n",
      "3                      50000       0.32         4.73\n",
      "4                     100000       0.59        19.32\n"
     ]
    }
   ],
   "source": [
    "# Put scaling data into a df\n",
    "data = {\n",
    "    'mpileup size (# of lines)': [100, 1000, 10000, 50000, 100000],\n",
    "    'snpfinder': [snp_100, snp_1000, snp_10000, snp_50000, snp_100000],\n",
    "    'mpileup2snp': [var_100, var_1000, var_10000, var_50000, var_100000]\n",
    "}\n",
    "\n",
    "df = pd.DataFrame(data)\n",
    "print(df)"
   ]
  },
  {
   "cell_type": "code",
   "execution_count": 65,
   "metadata": {},
   "outputs": [
    {
     "data": {
      "image/png": "[encoded data removed]",
      "text/plain": [
       "<Figure size 1000x600 with 1 Axes>"
      ]
     },
     "metadata": {},
     "output_type": "display_data"
    }
   ],
   "source": [
    "# Plot df\n",
    "plt.figure(figsize=(10, 6))\n",
    "plt.plot(df['mpileup size (# of lines)'], df['snpfinder'], marker='o', label='snpfinder')\n",
    "plt.plot(df['mpileup size (# of lines)'], df['mpileup2snp'], marker='s', label='mpileup2snp')\n",
    "plt.xlabel('mpileup size (# of lines)')\n",
    "plt.ylabel('Time (s)')\n",
    "plt.title('Performance Comparison of snpfinder and mpileup2snp')\n",
    "plt.legend()\n",
    "plt.grid(True)\n",
    "plt.savefig('scaling.png')"
   ]
  },
  {
   "cell_type": "code",
   "execution_count": null,
   "metadata": {},
   "outputs": [],
   "source": []
  }
 ],
 "metadata": {
  "kernelspec": {
   "display_name": "Python 3",
   "language": "python",
   "name": "python3"
  },
  "language_info": {
   "codemirror_mode": {
    "name": "ipython",
    "version": 3
   },
   "file_extension": ".py",
   "mimetype": "text/x-python",
   "name": "python",
   "nbconvert_exporter": "python",
   "pygments_lexer": "ipython3",
   "version": "3.11.2"
  }
 },
 "nbformat": 4,
 "nbformat_minor": 2
}
