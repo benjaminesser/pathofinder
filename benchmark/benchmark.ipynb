{
 "cells": [
  {
   "cell_type": "code",
   "execution_count": 1,
   "metadata": {},
   "outputs": [
    {
     "name": "stdout",
     "output_type": "stream",
     "text": [
      "  % Total    % Received % Xferd  Average Speed   Time    Time     Time  Current\n",
      "                                 Dload  Upload   Total   Spent    Left  Speed\n",
      "100   593    0   593    0     0   3021      0 --:--:-- --:--:-- --:--:--  3025\n",
      "100   347  100   347    0     0   1275      0 --:--:-- --:--:-- --:--:--  1275\n",
      "100  108k  100  108k    0     0    98k      0  0:00:01  0:00:01 --:--:--  745k\n"
     ]
    }
   ],
   "source": [
    "!curl -L https://sourceforge.net/projects/varscan/files/VarScan.v2.3.9.jar/download > VarScan.jar"
   ]
  },
  {
   "cell_type": "code",
   "execution_count": 11,
   "metadata": {},
   "outputs": [
    {
     "name": "stdout",
     "output_type": "stream",
     "text": [
      "Only SNPs will be reported\n",
      "Warning: No p-value threshold provided, so p-values will not be calculated\n",
      "Min coverage:\t10\n",
      "Min reads2:\t2\n",
      "Min var freq:\t0.2\n",
      "Min avg qual:\t0\n",
      "P-value thresh:\t0.01\n",
      "Reading input from ../example_files/NA12878_child.mpileup\n",
      "202362 bases in pileup file\n",
      "46 variant positions (40 SNP, 6 indel)\n",
      "0 were failed by the strand-filter\n",
      "40 variant positions reported (40 SNP, 0 indel)\n"
     ]
    }
   ],
   "source": [
    "!java -jar VarScan.jar mpileup2snp ../example_files/NA12878_child.mpileup --min-var-frequency 0.2 --min-freq-for-hom 0.8 --min-coverage 10 --min-avg-qual 0 --strand-filter 0 --output-vcf 1 --variants 1 > varscan_child.vcf"
   ]
  },
  {
   "cell_type": "code",
   "execution_count": 12,
   "metadata": {},
   "outputs": [],
   "source": [
    "!snpfinder ../example_files/NA12878_child.mpileup -o snpfinder_child.vcf"
   ]
  },
  {
   "cell_type": "code",
   "execution_count": 13,
   "metadata": {},
   "outputs": [
    {
     "name": "stdout",
     "output_type": "stream",
     "text": [
      "Only SNPs will be reported\n",
      "Warning: No p-value threshold provided, so p-values will not be calculated\n",
      "Min coverage:\t10\n",
      "Min reads2:\t2\n",
      "Min var freq:\t0.2\n",
      "Min avg qual:\t0\n",
      "P-value thresh:\t0.01\n",
      "Reading input from ../example_files/NA12878_child.mpileup\n",
      "202362 bases in pileup file\n",
      "46 variant positions (40 SNP, 6 indel)\n",
      "0 were failed by the strand-filter\n",
      "40 variant positions reported (40 SNP, 0 indel)\n",
      "java -jar VarScan.jar mpileup2snp ../example_files/NA12878_child.mpileup  0.2  23.95s user 0.89s system 130% cpu 19.073 total\n"
     ]
    }
   ],
   "source": [
    "!time java -jar VarScan.jar mpileup2snp ../example_files/NA12878_child.mpileup --min-var-frequency 0.2 --min-freq-for-hom 0.8 --min-coverage 10 --min-avg-qual 0 --strand-filter 0 --output-vcf 1 --variants 1 > varscan_child.vcf"
   ]
  },
  {
   "cell_type": "code",
   "execution_count": 14,
   "metadata": {},
   "outputs": [
    {
     "name": "stdout",
     "output_type": "stream",
     "text": [
      "snpfinder ../example_files/NA12878_child.mpileup -o snpfinder_child.vcf  1.25s user 0.02s system 68% cpu 1.859 total\n"
     ]
    }
   ],
   "source": [
    "!time snpfinder ../example_files/NA12878_child.mpileup -o snpfinder_child.vcf"
   ]
  },
  {
   "cell_type": "code",
   "execution_count": null,
   "metadata": {},
   "outputs": [],
   "source": []
  }
 ],
 "metadata": {
  "kernelspec": {
   "display_name": "Python 3",
   "language": "python",
   "name": "python3"
  },
  "language_info": {
   "codemirror_mode": {
    "name": "ipython",
    "version": 3
   },
   "file_extension": ".py",
   "mimetype": "text/x-python",
   "name": "python",
   "nbconvert_exporter": "python",
   "pygments_lexer": "ipython3",
   "version": "3.11.2"
  }
 },
 "nbformat": 4,
 "nbformat_minor": 2
}
